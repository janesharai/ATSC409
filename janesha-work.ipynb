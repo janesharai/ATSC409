{
 "cells": [
  {
   "cell_type": "code",
   "execution_count": 1,
   "id": "247a2d7c-70ad-4649-9031-ddd5026b4e36",
   "metadata": {},
   "outputs": [
    {
     "name": "stdout",
     "output_type": "stream",
     "text": [
      "******************************\n",
      "context imported. Front of path:\n",
      "/Users/janesharai/repos\n",
      "back of path: /Users/janesharai/miniconda3/envs/a405/lib/python3.12/site-packages\n",
      "******************************\n",
      "\n",
      "through /Users/janesharai/repos/numeric_2024/ATSC409/context.py\n"
     ]
    }
   ],
   "source": [
    "#will work on the temperature arrays in here\n",
    "#once succeeded, will put back into the main file\n",
    "\n",
    "\n",
    "import context\n",
    "from Integrator_Functions import Integrator\n",
    "from collections import namedtuple\n",
    "import numpy as np\n",
    "import matplotlib.pyplot as plt\n",
    "\n",
    "class Integ71(Integrator):\n",
    "    def set_yinit(self):\n",
    "        # TODO: We will need to set up the initial conditions here in:\n",
    "        constants = namedtuple('constants', ['solar', 'albedo'])\n",
    "        self.initvars = constants(np.array([1,2,3,4]), np.array([4,3,2,1]))\n",
    "\n",
    "        ## TODO: Change the arrays below to include the initial temperature array:\n",
    "        initvars = namedtuple('initvars', ['temperature'])\n",
    "        self.yinit = initvars(np.array([3,54,7,5,]))\n",
    "\n",
    "        # TODO: Make sure that we set this to the initial temperature array length 90\n",
    "        self.nvars = 4\n",
    "        return None\n",
    "\n",
    "    def __init__(self, coeffFileName):\n",
    "        super().__init__(coeffFileName)\n",
    "        self.set_yinit()\n",
    "\n",
    "    def derivs5(self, y, t):\n",
    "        \"\"\"arrs[0]=solar insolation\n",
    "           arrs[1]=albedo\n",
    "\n",
    "           Constant growty rates for white\n",
    "           and black daisies beta_w and beta_b\n",
    "\n",
    "           returns dy/dt\n",
    "        \"\"\"\n",
    "        ## TODO: Eventually add the derivative here. Also need to figure out where to store constants,\n",
    "        ## likely in constants tuple for initvars or another tuple\n",
    "        arrs = self.initvars\n",
    "        f = arrs.solar\n",
    "        return f\n",
    "    "
   ]
  },
  {
   "cell_type": "code",
   "execution_count": null,
   "id": "9dcc2abf-265f-4f8f-a3b1-00000a303813",
   "metadata": {},
   "outputs": [],
   "source": []
  }
 ],
 "metadata": {
  "kernelspec": {
   "display_name": "Python 3 (ipykernel)",
   "language": "python",
   "name": "python3"
  },
  "language_info": {
   "codemirror_mode": {
    "name": "ipython",
    "version": 3
   },
   "file_extension": ".py",
   "mimetype": "text/x-python",
   "name": "python",
   "nbconvert_exporter": "python",
   "pygments_lexer": "ipython3",
   "version": "3.12.1"
  }
 },
 "nbformat": 4,
 "nbformat_minor": 5
}
