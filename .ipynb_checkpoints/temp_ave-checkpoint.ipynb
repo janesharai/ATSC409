{
 "cells": [
  {
   "cell_type": "code",
   "execution_count": 1,
   "id": "7f8d7523-fd98-4178-8876-af1d89bbbcc6",
   "metadata": {},
   "outputs": [],
   "source": [
    "import numpy as np"
   ]
  },
  {
   "cell_type": "code",
   "execution_count": 2,
   "id": "ded61266-9523-4059-b983-aab8795cd0bd",
   "metadata": {},
   "outputs": [],
   "source": [
    "T = np.linspace(298,256,91) # place holder array. This will be interpolated from the table values\n",
    "lat = np.linspace(0,90,91) # array of latitudes len = 91\n",
    "\n",
    "def temp_ave(T,lat):\n",
    "    \"\"\"\n",
    "    input: temperature distribution array in Kelvin from previous timestep and latitude array in degrees (both of length 91)\n",
    "    output: average temperature accross the globe in Kelvin (float)\n",
    "    \"\"\"\n",
    "    deg2rad = np.pi/180\n",
    "    \n",
    "    denominator = np.sum(np.cos(lat*deg2rad))\n",
    "    numerator = np.sum(T * np.cos(lat*deg2rad))\n",
    "    \n",
    "    Tave = numerator / denominator\n",
    "    \n",
    "    return Tave"
   ]
  },
  {
   "cell_type": "code",
   "execution_count": 3,
   "id": "b98f55bc-8290-4c9a-8a50-38e7b7729973",
   "metadata": {},
   "outputs": [
    {
     "data": {
      "text/plain": [
       "282.87141314334906"
      ]
     },
     "execution_count": 3,
     "metadata": {},
     "output_type": "execute_result"
    }
   ],
   "source": [
    "T_ave = temp_ave(T,lat)\n",
    "T_ave"
   ]
  },
  {
   "cell_type": "code",
   "execution_count": null,
   "id": "2d445430-4145-4480-b3ff-208e28d7ff57",
   "metadata": {},
   "outputs": [],
   "source": []
  }
 ],
 "metadata": {
  "kernelspec": {
   "display_name": "Python 3 (ipykernel)",
   "language": "python",
   "name": "python3"
  },
  "language_info": {
   "codemirror_mode": {
    "name": "ipython",
    "version": 3
   },
   "file_extension": ".py",
   "mimetype": "text/x-python",
   "name": "python",
   "nbconvert_exporter": "python",
   "pygments_lexer": "ipython3",
   "version": "3.12.1"
  }
 },
 "nbformat": 4,
 "nbformat_minor": 5
}
