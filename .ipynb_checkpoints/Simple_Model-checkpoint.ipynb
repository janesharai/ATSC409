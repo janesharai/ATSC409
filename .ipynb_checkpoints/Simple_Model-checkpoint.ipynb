{
 "cells": [
  {
   "cell_type": "markdown",
   "id": "bfb6de39-aef2-4fd6-98b0-c78b8954b55e",
   "metadata": {},
   "source": [
    "## Here we will set up the simple model without the clouds first"
   ]
  },
  {
   "cell_type": "code",
   "execution_count": 1,
   "id": "23bf2923-3ca1-4113-95cd-82eaa428255d",
   "metadata": {},
   "outputs": [
    {
     "name": "stdout",
     "output_type": "stream",
     "text": [
      "******************************\n",
      "context imported. Front of path:\n",
      "C:\\Users\\13432\\Documents\\ATSC_409\\numeric_2024\n",
      "back of path: C:\\Users\\13432\\miniconda3\\envs\\numeric_2024\\Lib\\site-packages\\Pythonwin\n",
      "******************************\n",
      "\n",
      "through C:\\Users\\13432\\Documents\\ATSC_409\\numeric_2024\\Project\\ATSC409\\context.py\n"
     ]
    }
   ],
   "source": [
    "import context\n",
    "from Integrator_Functions import Integrator\n",
    "from collections import namedtuple\n",
    "import numpy as np\n",
    "import matplotlib.pyplot as plt\n",
    "\n",
    "class Integ71(Integrator):\n",
    "    def set_yinit(self):\n",
    "        # TODO: We will need to set up the initial conditions here in:\n",
    "        constants = namedtuple('constants', ['solar', 'albedo'])\n",
    "        self.initvars = constants(np.array([1,2,3,4]), np.array([4,3,2,1]))\n",
    "\n",
    "        ## TODO: Change the arrays below to include the initial temperature array:\n",
    "        initvars = namedtuple('initvars', ['temperature'])\n",
    "        self.yinit = initvars(np.array([3,54,7,5,]))\n",
    "\n",
    "        # TODO: Make sure that we set this to the initial temperature array length 90\n",
    "        self.nvars = 4\n",
    "        return None\n",
    "\n",
    "    def __init__(self, coeffFileName):\n",
    "        super().__init__(coeffFileName)\n",
    "        self.set_yinit()\n",
    "\n",
    "    def derivs5(self, y, t):\n",
    "        \"\"\"arrs[0]=solar insolation\n",
    "           arrs[1]=albedo\n",
    "\n",
    "           Constant growty rates for white\n",
    "           and black daisies beta_w and beta_b\n",
    "\n",
    "           returns dy/dt\n",
    "        \"\"\"\n",
    "        ## TODO: Eventually add the derivative here. Also need to figure out where to store constants,\n",
    "        ## likely in constants tuple for initvars or another tuple\n",
    "        arrs = self.initvars\n",
    "        f = arrs.solar\n",
    "        return f\n",
    "    "
   ]
  },
  {
   "cell_type": "code",
   "execution_count": 2,
   "id": "03350027-64a1-4ab1-aa43-63322d6b5a3f",
   "metadata": {},
   "outputs": [],
   "source": [
    "## This cell will be used to set up the class we will need to override the derivs function\n",
    "## Used for testing the integrator atm\n",
    "\n",
    "theSolver = Integ71('init_conds_simple.yaml')\n",
    "timeVals, yVals, errorList = theSolver.timeloop5fixed()"
   ]
  },
  {
   "cell_type": "code",
   "execution_count": 3,
   "id": "39b29197-1b44-4e6d-a173-f08144b3ccca",
   "metadata": {},
   "outputs": [
    {
     "data": {
      "text/plain": [
       "array([[ 3. , 54. ,  7. ,  5. ],\n",
       "       [ 3.1, 54.2,  7.3,  5.4],\n",
       "       [ 3.2, 54.4,  7.6,  5.8],\n",
       "       [ 3.3, 54.6,  7.9,  6.2],\n",
       "       [ 3.4, 54.8,  8.2,  6.6],\n",
       "       [ 3.5, 55. ,  8.5,  7. ],\n",
       "       [ 3.6, 55.2,  8.8,  7.4],\n",
       "       [ 3.7, 55.4,  9.1,  7.8],\n",
       "       [ 3.8, 55.6,  9.4,  8.2],\n",
       "       [ 3.9, 55.8,  9.7,  8.6],\n",
       "       [ 4. , 56. , 10. ,  9. ]])"
      ]
     },
     "execution_count": 3,
     "metadata": {},
     "output_type": "execute_result"
    }
   ],
   "source": [
    "yVals"
   ]
  },
  {
   "cell_type": "code",
   "execution_count": 4,
   "id": "1366f58d-9b3b-4de3-9804-fad8cf8b9c6d",
   "metadata": {},
   "outputs": [
    {
     "name": "stdout",
     "output_type": "stream",
     "text": [
      "wow\n"
     ]
    }
   ],
   "source": [
    "print('wow')"
   ]
  },
  {
   "cell_type": "code",
   "execution_count": 5,
   "id": "11f1732a-0201-492f-91e9-3b7a240a7680",
   "metadata": {},
   "outputs": [
    {
     "name": "stdout",
     "output_type": "stream",
     "text": [
      "your mom\n"
     ]
    }
   ],
   "source": [
    "print('your mom')"
   ]
  }
 ],
 "metadata": {
  "kernelspec": {
   "display_name": "Python 3 (ipykernel)",
   "language": "python",
   "name": "python3"
  },
  "language_info": {
   "codemirror_mode": {
    "name": "ipython",
    "version": 3
   },
   "file_extension": ".py",
   "mimetype": "text/x-python",
   "name": "python",
   "nbconvert_exporter": "python",
   "pygments_lexer": "ipython3",
   "version": "3.12.1"
  }
 },
 "nbformat": 4,
 "nbformat_minor": 5
}
