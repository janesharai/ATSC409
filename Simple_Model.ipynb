{
 "cells": [
  {
   "cell_type": "markdown",
   "id": "bfb6de39-aef2-4fd6-98b0-c78b8954b55e",
   "metadata": {},
   "source": [
    "## Here we will set up the simple model without the clouds first"
   ]
  },
  {
   "cell_type": "code",
   "execution_count": 6,
   "id": "23bf2923-3ca1-4113-95cd-82eaa428255d",
   "metadata": {},
   "outputs": [],
   "source": [
    "import context\n",
    "from Integrator_Functions import Integrator\n",
    "from collections import namedtuple\n",
    "import numpy as np\n",
    "import matplotlib.pyplot as plt\n",
    "\n",
    "class Integ71(Integrator):\n",
    "    def derivs5(self, y, t):\n",
    "        \"\"\"y[0]=fraction white daisies\n",
    "           y[1]=fraction black daisies\n",
    "\n",
    "           Constant growty rates for white\n",
    "           and black daisies beta_w and beta_b\n",
    "\n",
    "           returns dy/dt\n",
    "        \"\"\"\n",
    "        user = self.uservars\n",
    "        #\n",
    "        # bare ground\n",
    "        #\n",
    "        x = 1.0 - y[0] - y[1]\n",
    "\n",
    "        # growth rates don't depend on temperature\n",
    "        beta_b = 0.7  # growth rate for black daisies\n",
    "        beta_w = 0.7  # growth rate for white daisies\n",
    "\n",
    "        # create a 1 x 2 element vector to hold the derivitive\n",
    "        f = np.empty([self.nvars], 'float')\n",
    "        f[0] = y[0] * (beta_w * x - user.chi)\n",
    "        f[1] = y[1] * (beta_b * x - user.chi)\n",
    "        return f\n",
    "    "
   ]
  },
  {
   "cell_type": "code",
   "execution_count": null,
   "id": "03350027-64a1-4ab1-aa43-63322d6b5a3f",
   "metadata": {},
   "outputs": [],
   "source": [
    "## This cell will be used to set up the class we will need to override the derivs function\n",
    "\n"
   ]
  },
  {
   "cell_type": "code",
   "execution_count": 1,
   "id": "1366f58d-9b3b-4de3-9804-fad8cf8b9c6d",
   "metadata": {},
   "outputs": [
    {
     "name": "stdout",
     "output_type": "stream",
     "text": [
      "wow\n"
     ]
    }
   ],
   "source": [
    "print('wow')"
   ]
  },
  {
   "cell_type": "code",
   "execution_count": 1,
   "id": "11f1732a-0201-492f-91e9-3b7a240a7680",
   "metadata": {},
   "outputs": [
    {
     "name": "stdout",
     "output_type": "stream",
     "text": [
      "your mom\n"
     ]
    }
   ],
   "source": [
    "print('your mom')"
   ]
  },
  {
   "cell_type": "code",
   "execution_count": null,
   "id": "3bba2dff-1ba8-4514-a3a1-4ade03b7d337",
   "metadata": {},
   "outputs": [],
   "source": []
  }
 ],
 "metadata": {
  "kernelspec": {
   "display_name": "Python 3 (ipykernel)",
   "language": "python",
   "name": "python3"
  },
  "language_info": {
   "codemirror_mode": {
    "name": "ipython",
    "version": 3
   },
   "file_extension": ".py",
   "mimetype": "text/x-python",
   "name": "python",
   "nbconvert_exporter": "python",
   "pygments_lexer": "ipython3",
   "version": "3.12.1"
  }
 },
 "nbformat": 4,
 "nbformat_minor": 5
}
