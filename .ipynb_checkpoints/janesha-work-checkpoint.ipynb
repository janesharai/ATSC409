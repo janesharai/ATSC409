{
 "cells": [
  {
   "cell_type": "code",
   "execution_count": 21,
   "id": "247a2d7c-70ad-4649-9031-ddd5026b4e36",
   "metadata": {},
   "outputs": [],
   "source": [
    "#will work on the temperature arrays in here\n",
    "#once succeeded, will put back into the main file\n",
    "\n",
    "import context\n",
    "from Integrator_Functions import Integrator\n",
    "from collections import namedtuple\n",
    "import numpy as np\n",
    "import matplotlib.pyplot as plt\n",
    "\n",
    "class Integ71(Integrator):\n",
    "    def set_yinit(self):\n",
    "        \n",
    "        # TODO: We will need to set up the initial conditions here in:\n",
    "        constants = namedtuple('constants', ['solar', 'albedo'])\n",
    "        self.initvars = constants(np.array([1,2,3,4]), np.array([4,3,2,1]))\n",
    "\n",
    "        ##############################################################################\n",
    "        ## COMPLETED: Change the arrays below to include the initial temperature array:\n",
    "\n",
    "        # Information from the table\n",
    "        table_Ti = np.array([26.4, 26.1, 22.9, 16.2, 8.8, 2.2, -5.1, -12.3, -16.9])\n",
    "        table_lats = np.array([10, 20, 30, 40, 50, 60, 70, 80, 90])\n",
    "\n",
    "        # Create an array for the latitudes from 0° to 90°N with 91 values\n",
    "        latitudes = np.arange(0, 91, 1) \n",
    "\n",
    "        # Linearly interpolate temperature values\n",
    "        interpolated_T = np.interp(latitudes, table_lats, table_Ti)\n",
    "     \n",
    "        # Set initial temperature array\n",
    "        initvars = namedtuple('initvars', ['temperature'])\n",
    "        self.yinit = initvars(temperature=interpolated_T)\n",
    "        ##############################################################################\n",
    "        \n",
    "        # TODO: Make sure that we set this to the initial temperature array length 90\n",
    "        self.nvars = 4\n",
    "        return None\n",
    "\n",
    "    def __init__(self, coeffFileName):\n",
    "        super().__init__(coeffFileName)\n",
    "        self.set_yinit()\n",
    "\n",
    "    def derivs5(self, y, t):\n",
    "        \"\"\"arrs[0]=solar insolation\n",
    "           arrs[1]=albedo\n",
    "\n",
    "           Constant growty rates for white\n",
    "           and black daisies beta_w and beta_b\n",
    "\n",
    "           returns dy/dt\n",
    "        \"\"\"\n",
    "        ## TODO: Eventually add the derivative here. Also need to figure out where to store constants,\n",
    "        ## likely in constants tuple for initvars or another tuple\n",
    "        arrs = self.initvars\n",
    "        f = arrs.solar\n",
    "        return f\n",
    "    "
   ]
  },
  {
   "cell_type": "code",
   "execution_count": 23,
   "id": "531abbc2-8987-40ed-9244-b1f6d0189465",
   "metadata": {},
   "outputs": [
    {
     "name": "stdout",
     "output_type": "stream",
     "text": [
      "[ 26.4   26.4   26.4   26.4   26.4   26.4   26.4   26.4   26.4   26.4\n",
      "  26.4   26.37  26.34  26.31  26.28  26.25  26.22  26.19  26.16  26.13\n",
      "  26.1   25.78  25.46  25.14  24.82  24.5   24.18  23.86  23.54  23.22\n",
      "  22.9   22.23  21.56  20.89  20.22  19.55  18.88  18.21  17.54  16.87\n",
      "  16.2   15.46  14.72  13.98  13.24  12.5   11.76  11.02  10.28   9.54\n",
      "   8.8    8.14   7.48   6.82   6.16   5.5    4.84   4.18   3.52   2.86\n",
      "   2.2    1.47   0.74   0.01  -0.72  -1.45  -2.18  -2.91  -3.64  -4.37\n",
      "  -5.1   -5.82  -6.54  -7.26  -7.98  -8.7   -9.42 -10.14 -10.86 -11.58\n",
      " -12.3  -12.76 -13.22 -13.68 -14.14 -14.6  -15.06 -15.52 -15.98 -16.44\n",
      " -16.9 ]\n"
     ]
    }
   ],
   "source": [
    "##Outside the stuff \n",
    "\n",
    "#Create an initial temperature array, 90 values corresponding for lattidues from 0° (Equator) to 90°N (North Pole)\n",
    "#Considering the Northern Hemisphere\n",
    "\n",
    "#Information from the table\n",
    "table_Ti = np.array([26.4, 26.1, 22.9, 16.2, 8.8, 2.2, -5.1, -12.3, -16.9])\n",
    "table_lats = np.array([10, 20, 30, 40, 50, 60, 70, 80, 90])\n",
    "\n",
    "#linearly interpolate between for temperature values\n",
    "\n",
    "latitudes = np.arange(0, 91, 1) ##QUESTION: Shouldn't our arrays have 91 values in them, not 90 (as we are also considering 0° latitude?)\n",
    "interpolated_T = np.interp(latitudes, table_lats, table_Ti)\n",
    "\n",
    "np.set_printoptions(suppress=True) #to see the values without scientific notation - can comment out later\n",
    "print(interpolated_T)"
   ]
  },
  {
   "cell_type": "code",
   "execution_count": null,
   "id": "b381f7d2-48d6-4fd4-9299-3be135bd5645",
   "metadata": {},
   "outputs": [],
   "source": []
  }
 ],
 "metadata": {
  "kernelspec": {
   "display_name": "Python 3 (ipykernel)",
   "language": "python",
   "name": "python3"
  },
  "language_info": {
   "codemirror_mode": {
    "name": "ipython",
    "version": 3
   },
   "file_extension": ".py",
   "mimetype": "text/x-python",
   "name": "python",
   "nbconvert_exporter": "python",
   "pygments_lexer": "ipython3",
   "version": "3.12.1"
  }
 },
 "nbformat": 4,
 "nbformat_minor": 5
}
